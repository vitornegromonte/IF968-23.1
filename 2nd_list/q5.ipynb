{
 "cells": [
  {
   "cell_type": "code",
   "execution_count": 4,
   "metadata": {},
   "outputs": [
    {
     "name": "stdout",
     "output_type": "stream",
     "text": [
      "Dia 1 do InterCIn\n",
      "A música mais animada do dia foi Hymm for the weekend\n",
      "Mesmo assim, não foi o suficiente para deixar o pessoal animado. Serão necessários pelo menos 12 pontos de animação no outro dia\n",
      "A música mais animada do dia foi Hymm for the weekend\n",
      "Dia 2 do InterCIn\n",
      "A música mais animada do dia foi Friday im in love\n",
      "Dia 3 do InterCIn\n",
      "A música mais animada do dia foi Anna Julia\n",
      "A playlist estava incrível demais!\n",
      "A música mais animada do dia foi Anna Julia\n"
     ]
    }
   ],
   "source": [
    "# Inputs:\n",
    "duracao_playlist = int(input())\n",
    "\n",
    "dia = 0\n",
    "meta_d = 10 # Meta diária\n",
    "anima_torcida = 0\n",
    "stop = False\n",
    "nova_meta = 0\n",
    "\n",
    "while dia < 3 and stop == False:\n",
    "    \n",
    "    dia += 1\n",
    "    print(f'Dia {dia} do InterCIn')\n",
    "    num_musicas_tocadas_dia = int(input())\n",
    "    \n",
    "    # Definindo as variáveis de teste da animação da música\n",
    "    musica_animada = ''\n",
    "    indice_musica_animada = 0\n",
    "    \n",
    "    for _ in range(num_musicas_tocadas_dia):\n",
    "        nome_musica = input()\n",
    "        duracao_musica_segundos = int(input())\n",
    "        indice_animacao_musica = int(input())\n",
    "        \n",
    "        # Atualiza a duração da playlist\n",
    "        duracao_playlist -= duracao_musica_segundos\n",
    "        # Atualiza a animação da torcida\n",
    "        anima_torcida += int(indice_animacao_musica * 0.8)\n",
    "        \n",
    "        # Verificando a música mais animada do dia\n",
    "        if indice_animacao_musica > indice_musica_animada:\n",
    "            musica_animada = nome_musica\n",
    "            indice_musica_animada = indice_animacao_musica\n",
    "            \n",
    "        # Verificando se a meta foi batida\n",
    "        if anima_torcida < meta_d:\n",
    "            nova_meta = 10 + (meta_d - anima_torcida)\n",
    "            meta_d = nova_meta\n",
    "            print(f'A música mais animada do dia foi {musica_animada}')\n",
    "            print(f\"Mesmo assim, não foi o suficiente para deixar o pessoal animado. Serão necessários pelo menos {nova_meta} pontos de animação no outro dia\")\n",
    "        else:\n",
    "            print(f'A música mais animada do dia foi {musica_animada}')\n",
    "            meta_d = 10\n",
    "        if duracao_musica_segundos > duracao_playlist:\n",
    "            print('Estava animado, mas a playlist acabou antes do evento terminar e todo mundo ficou muito triste :(')  \n",
    "            stop = True\n",
    "    # Verificando se é o último dia da playlist\n",
    "    if dia == 3 and anima_torcida < meta_d and stop == False:\n",
    "        print('A playlist estava boa, mas não foi o suficiente para animar o evento')\n",
    "        stop = True\n",
    "    elif dia == 3 and anima_torcida > meta_d and stop == False:\n",
    "        print('A playlist estava incrível demais!')\n",
    "        stop = True"
   ]
  }
 ],
 "metadata": {
  "kernelspec": {
   "display_name": "Python 3",
   "language": "python",
   "name": "python3"
  },
  "language_info": {
   "codemirror_mode": {
    "name": "ipython",
    "version": 3
   },
   "file_extension": ".py",
   "mimetype": "text/x-python",
   "name": "python",
   "nbconvert_exporter": "python",
   "pygments_lexer": "ipython3",
   "version": "3.11.3"
  },
  "orig_nbformat": 4
 },
 "nbformat": 4,
 "nbformat_minor": 2
}
