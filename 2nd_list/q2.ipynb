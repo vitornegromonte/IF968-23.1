{
 "cells": [
  {
   "cell_type": "code",
   "execution_count": 4,
   "metadata": {},
   "outputs": [
    {
     "name": "stdout",
     "output_type": "stream",
     "text": [
      "Não teremos água para todos os jogadores... Temos que garantir 8 garrafas!!\n",
      "Não teremos água para todos os jogadores... Temos que garantir 4 garrafas!!\n",
      "Vendemos todas as garrafas! Nosso planejamento foi perfeito!\n"
     ]
    }
   ],
   "source": [
    "qt_agua = 20 # Estoque inicial de garrafas\n",
    "stop = False\n",
    "total_pedido = 0\n",
    "\n",
    "while qt_agua >= 0 and not stop:\n",
    "    frase = input()\n",
    "    if frase == 'Acabou uma partida e precisamos da seguinte quantidade de garrafas para matar a sede dos jogadores':\n",
    "        n = int(input())\n",
    "        \n",
    "        if qt_agua < n:\n",
    "            \n",
    "            print(f'Não teremos água para todos os jogadores... Temos que garantir {abs(qt_agua - n)} garrafas!!')\n",
    "            qt_agua = qt_agua * 2\n",
    "            \n",
    "            if qt_agua < n:\n",
    "                print('Por questões logísticas, teremos que acabar com os jogos...')\n",
    "                stop = True\n",
    "            else:\n",
    "                total_pedido += n\n",
    "                qt_agua = qt_agua - n\n",
    "        else:\n",
    "            total_pedido += n\n",
    "            qt_agua = qt_agua - n\n",
    "            \n",
    "    elif frase == 'Encham o cooler! O jogo vai começar!!!!':\n",
    "        qt_agua += 15\n",
    "        print('Geladeira cheia!')\n",
    "    \n",
    "    elif frase == 'Timeout da partida! Verifiquem quantas garrafas pediram aos voluntários':\n",
    "        quantidade_1 = int(input())\n",
    "        quantidade_2 = int(input())\n",
    "        quantidade_3 = int(input())\n",
    "        quantidade_4 = int(input())\n",
    "        quantidade_5 = int(input())\n",
    "        # Contando o total pedido aos voluntários\n",
    "        total_pedido = quantidade_1 + quantidade_2 + quantidade_3 + quantidade_4 + quantidade_5\n",
    "        \n",
    "        # Testando a quantidade disponível\n",
    "        if total_pedido > qt_agua:\n",
    "            print(f'Faltaram {abs(total_pedido - qt_agua)} garrafas para atender o pedido feito aos voluntários')\n",
    "            print('Por questões logísticas, teremos que acabar com os jogos...')\n",
    "            stop = True\n",
    "            \n",
    "    elif frase == 'O InterCIn acabou!!! Vamos verificar nosso estoque de bebidas':\n",
    "        if qt_agua > 0:\n",
    "            print(f'Sobraram {qt_agua - total_pedido} garrafas, vamos guardar na geladeira :D')\n",
    "            stop = True\n",
    "        elif qt_agua == 0:\n",
    "            print('Vendemos todas as garrafas! Nosso planejamento foi perfeito!')\n",
    "            stop = True"
   ]
  }
 ],
 "metadata": {
  "kernelspec": {
   "display_name": "Python 3",
   "language": "python",
   "name": "python3"
  },
  "language_info": {
   "codemirror_mode": {
    "name": "ipython",
    "version": 3
   },
   "file_extension": ".py",
   "mimetype": "text/x-python",
   "name": "python",
   "nbconvert_exporter": "python",
   "pygments_lexer": "ipython3",
   "version": "3.11.3"
  },
  "orig_nbformat": 4
 },
 "nbformat": 4,
 "nbformat_minor": 2
}
