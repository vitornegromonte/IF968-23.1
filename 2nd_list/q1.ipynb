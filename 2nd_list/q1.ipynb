{
 "cells": [
  {
   "cell_type": "code",
   "execution_count": 4,
   "metadata": {},
   "outputs": [
    {
     "name": "stdout",
     "output_type": "stream",
     "text": [
      "O vencedor da 1ª rodada foi: Guard\n",
      "O vencedor da 2ª rodada foi: Cibern\n",
      "O vencedor da 3ª rodada foi: Cibern\n",
      "O vencedor da 4ª rodada foi: Guard\n",
      "O vencedor da 5ª rodada foi: Cibern\n",
      "O time Cibern ganhou a partida final!\n"
     ]
    }
   ],
   "source": [
    "#Input times\n",
    "time_1 = input()\n",
    "time_2 = input()\n",
    "\n",
    "n = 0\n",
    "\n",
    "vit_time_1 = 0\n",
    "vit_time_2 = 0\n",
    "\n",
    "while vit_time_1 < 3 and vit_time_2 < 3:\n",
    "    n += 1\n",
    "    pontuacao_time_1 = int(input())\n",
    "    pontuacao_time_2 = int(input())\n",
    "    if pontuacao_time_1 > pontuacao_time_2:\n",
    "        print(f'O vencedor da {n}ª rodada foi: {time_1}')\n",
    "        vit_time_1 += 1\n",
    "    else:\n",
    "        print(f'O vencedor da {n}ª rodada foi: {time_2}')\n",
    "        vit_time_2 += 1\n",
    "if vit_time_1 == 3:\n",
    "    print(f'O time {time_1} ganhou a partida final!')\n",
    "else:\n",
    "    print(f'O time {time_2} ganhou a partida final!')"
   ]
  }
 ],
 "metadata": {
  "kernelspec": {
   "display_name": "Python 3",
   "language": "python",
   "name": "python3"
  },
  "language_info": {
   "codemirror_mode": {
    "name": "ipython",
    "version": 3
   },
   "file_extension": ".py",
   "mimetype": "text/x-python",
   "name": "python",
   "nbconvert_exporter": "python",
   "pygments_lexer": "ipython3",
   "version": "3.11.3"
  },
  "orig_nbformat": 4
 },
 "nbformat": 4,
 "nbformat_minor": 2
}
