{
 "cells": [
  {
   "cell_type": "code",
   "execution_count": 2,
   "metadata": {},
   "outputs": [
    {
     "name": "stdout",
     "output_type": "stream",
     "text": [
      "Com 48.65% dos pontos, o time SpiCIn Girls pode garantir nosso dinheiro na CInBet, é uma das grandes apostas do InterCIn.\n"
     ]
    }
   ],
   "source": [
    "jogos = int(input())\n",
    "\n",
    "pts_time_1 = 0 # Manchester Cin\n",
    "pts_time_2 = 0 # SpiCIn Girls\n",
    "\n",
    "total_time_1 = 0\n",
    "total_time_2 = 0\n",
    "\n",
    "stop = True\n",
    "\n",
    "for i in range(jogos):\n",
    "    time = input()\n",
    "    gols = int(input()) # 10\n",
    "    chutes = int(input()) # 3\n",
    "    yellow_card = int(input()) # -2\n",
    "    red_card = int(input()) # -4\n",
    "        \n",
    "    if (time == 'Manchester CIn'):\n",
    "        pts_time_1 = (gols * 10) + (chutes * 3) - (yellow_card * 2) - (red_card * 4)\n",
    "        if (gols > chutes * 0.3):\n",
    "            pts_time_1 += 3\n",
    "            \n",
    "        elif (red_card >= yellow_card):\n",
    "            pts_time_1 -= 3\n",
    "        total_time_1 += pts_time_1\n",
    "    \n",
    "    elif (time == 'SpiCIn Girls'):\n",
    "        pts_time_2 = (gols * 10) + (chutes * 3) - (yellow_card * 2) - (red_card * 4)\n",
    "        \n",
    "        if (gols >= chutes * 0.3):\n",
    "            pts_time_2 += 3\n",
    "            \n",
    "        elif (red_card >= yellow_card):\n",
    "            pts_time_2 -= 3\n",
    "        total_time_2 += pts_time_2\n",
    "\n",
    "    if (pts_time_1 < 0 or pts_time_2 < 0):\n",
    "        print(f'O time {time} ficou com pontuação negativa. A aposta não é segura, podemos perder nosso dinheiro')\n",
    "        \n",
    "# Soma o total de pontos \n",
    "total = total_time_1 + total_time_2\n",
    "\n",
    "if pts_time_1 > pts_time_2:\n",
    "    porcen_time_1 = (pts_time_1/total) * 100\n",
    "    print(f'Com {porcen_time_1:.2f}% dos pontos, o time Manchester CIn pode garantir nosso dinheiro na CInBet, é uma das grandes apostas do InterCIn.')\n",
    "    \n",
    "else:\n",
    "    porcen_time_2 = (pts_time_2/total) * 100\n",
    "    print(f'Com {porcen_time_2:.2f}% dos pontos, o time SpiCIn Girls pode garantir nosso dinheiro na CInBet, é uma das grandes apostas do InterCIn.')\n",
    "    "
   ]
  },
  {
   "cell_type": "code",
   "execution_count": 1,
   "metadata": {},
   "outputs": [
    {
     "name": "stdout",
     "output_type": "stream",
     "text": [
      "Com 48.65% dos pontos, o time SpiCIn Girls pode garantir nosso dinheiro na CInBet, é uma das grandes apostas do InterCIn.\n"
     ]
    }
   ],
   "source": [
    "jogos = int(input())\n",
    "\n",
    "pts_time_1 = 0  # Manchester Cin\n",
    "pts_time_2 = 0  # SpiCIn Girls\n",
    "\n",
    "total_time_1 = 0\n",
    "total_time_2 = 0\n",
    "\n",
    "for i in range(jogos):\n",
    "    time = input()\n",
    "    gols = int(input())\n",
    "    chutes = int(input())\n",
    "    yellow_card = int(input())\n",
    "    red_card = int(input())\n",
    "\n",
    "    if time == 'Manchester CIn':\n",
    "        pts_time_1 = (gols * 10) + (chutes * 3) - (yellow_card * 2) - (red_card * 4)\n",
    "        if gols >= chutes * 0.3:\n",
    "            pts_time_1 += 3\n",
    "        elif red_card >= yellow_card:\n",
    "            pts_time_1 -= 3\n",
    "        total_time_1 += pts_time_1\n",
    "    elif time == 'SpiCIn Girls':\n",
    "        pts_time_2 = (gols * 10) + (chutes * 3) - (yellow_card * 2) - (red_card * 4)\n",
    "        if gols >= chutes * 0.3:\n",
    "            pts_time_2 += 3\n",
    "        elif red_card >= yellow_card:\n",
    "            pts_time_2 -= 3\n",
    "        total_time_2 += pts_time_2\n",
    "\n",
    "    if pts_time_1 < 0 or pts_time_2 < 0:\n",
    "        print(f'O time {time} ficou com pontuação negativa. A aposta não é segura, podemos perder nosso dinheiro')\n",
    "\n",
    "# Soma o total de pontos\n",
    "total = total_time_1 + total_time_2\n",
    "\n",
    "if total > 0:\n",
    "    porcen_time_2 = (total_time_2 / total) * 100\n",
    "    print(f'Com {porcen_time_2:.2f}% dos pontos, o time SpiCIn Girls pode garantir nosso dinheiro na CInBet, é uma das grandes apostas do InterCIn.')\n",
    "    "
   ]
  }
 ],
 "metadata": {
  "kernelspec": {
   "display_name": "Python 3",
   "language": "python",
   "name": "python3"
  },
  "language_info": {
   "codemirror_mode": {
    "name": "ipython",
    "version": 3
   },
   "file_extension": ".py",
   "mimetype": "text/x-python",
   "name": "python",
   "nbconvert_exporter": "python",
   "pygments_lexer": "ipython3",
   "version": "3.11.3"
  },
  "orig_nbformat": 4
 },
 "nbformat": 4,
 "nbformat_minor": 2
}
