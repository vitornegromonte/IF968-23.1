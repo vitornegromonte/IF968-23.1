{
 "cells": [
  {
   "cell_type": "code",
   "execution_count": 3,
   "metadata": {},
   "outputs": [
    {
     "name": "stdout",
     "output_type": "stream",
     "text": [
      "64! Vou comprar todos!\n"
     ]
    }
   ],
   "source": [
    "def testar_letras(entrada):\n",
    "    # contadores da quantidade de letras maiusculas e minusculas\n",
    "    cont_maiusculas = 0\n",
    "    cont_minusculas = 0\n",
    "    \n",
    "    # percorre todos os caracteres da string e testa se o mesmo é maiusculo ou minusculo\n",
    "    for i in entrada:\n",
    "        if i.isupper():\n",
    "            cont_maiusculas += 1\n",
    "        else:\n",
    "            cont_minusculas += 1\n",
    "    \n",
    "    # testa se a quantidade de maiusculas é maior, menor ou igual à quantidade de minúsculas\n",
    "    if cont_maiusculas > cont_minusculas:\n",
    "        output = pricing(cont_maiusculas) * len(entrada)\n",
    "    \n",
    "    elif cont_minusculas > cont_maiusculas:\n",
    "        output = pricing(cont_minusculas) * len(entrada)\n",
    "        \n",
    "    else:\n",
    "        output = (len(entrada) ** 2)\n",
    "    \n",
    "    \n",
    "    # se o valor do produtos for >= 100:\n",
    "    if output >= 100:\n",
    "        print(f'Hum... {output}? Acho que na volta eu compro')\n",
    "    else:\n",
    "        print(f'{output}! Vou comprar todos!')\n",
    "\n",
    "\n",
    "# função que calcula o preço do produto usando fatorial\n",
    "def pricing(num):\n",
    "    if num == 0:\n",
    "        return 1\n",
    "    else:\n",
    "        return num * pricing(num-1)\n",
    "\n",
    "# recebe a entrada e chama a função testar_letras()\n",
    "entrada = input()\n",
    "testar_letras(entrada)\n"
   ]
  }
 ],
 "metadata": {
  "kernelspec": {
   "display_name": "Python 3",
   "language": "python",
   "name": "python3"
  },
  "language_info": {
   "codemirror_mode": {
    "name": "ipython",
    "version": 3
   },
   "file_extension": ".py",
   "mimetype": "text/x-python",
   "name": "python",
   "nbconvert_exporter": "python",
   "pygments_lexer": "ipython3",
   "version": "3.11.3"
  },
  "orig_nbformat": 4
 },
 "nbformat": 4,
 "nbformat_minor": 2
}
