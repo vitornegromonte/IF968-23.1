{
 "cells": [
  {
   "cell_type": "code",
   "execution_count": null,
   "metadata": {},
   "outputs": [],
   "source": [
    "def encontra_suspeito(nome_suspeito, string_concat, num = 0):\n",
    "    # parâmetros nome , string concatenada e um contador para o index\n",
    "    if num + len(nome_suspeito) > len(string_concat): \n",
    "        # SE o index + o tamanho do nome do suspeito for maior que a string concatenada é impossível que ele seja o culpado:\n",
    "        print(f'Não era o {nome_suspeito}, tenho que continuar procurando.')\n",
    "        return\n",
    "    \n",
    "    elif nome_suspeito.lower() == string_concat[num:num+len(nome_suspeito)].lower():\n",
    "        # Se o nome do suspeito for igual a string concatenada no intervalo de [n até n + o tamanho do nome do suspeito]: o nome está na lista e é o culpado\n",
    "        print(f'Encontrei, o culpado é o {nome_suspeito}!')\n",
    "    \n",
    "    else:\n",
    "        encontra_suspeito(nome_suspeito, string_concat, num + 1) # caso ele não esteja na testagem inicial, chama novamente a função\n",
    "        \n",
    "# Entradas do usuário\n",
    "nome_suspeito = input()\n",
    "string_concat = input()\n",
    "\n",
    "# Chamando a função encontra_suspeito()\n",
    "busca_suspeito(nome_suspeito, string_concat)"
   ]
  }
 ],
 "metadata": {
  "kernelspec": {
   "display_name": "Python 3",
   "language": "python",
   "name": "python3"
  },
  "language_info": {
   "codemirror_mode": {
    "name": "ipython",
    "version": 3
   },
   "file_extension": ".py",
   "mimetype": "text/x-python",
   "name": "python",
   "nbconvert_exporter": "python",
   "pygments_lexer": "ipython3",
   "version": "3.11.3"
  },
  "orig_nbformat": 4
 },
 "nbformat": 4,
 "nbformat_minor": 2
}
