{
 "cells": [
  {
   "cell_type": "code",
   "execution_count": null,
   "metadata": {},
   "outputs": [],
   "source": [
    "def find_zelda(current_room, other_rooms, sword, rupees_coletados):\n",
    "    \n",
    "    found_zelda = False\n",
    "    found_villain = False\n",
    "    \n",
    "    if current_room not in other_rooms:\n",
    "        room = castelo[current_room]\n",
    "        next_room = None\n",
    "        other_rooms.append(current_room)\n",
    "        \n",
    "        for x in room:\n",
    "            \n",
    "            if x.isdigit():\n",
    "                next_room = int(x)\n",
    "                \n",
    "            elif x == '◇':\n",
    "                rupees_coletados += 1\n",
    "            elif x == 'Zelda':\n",
    "                found_zelda = True\n",
    "                \n",
    "            elif x == 'Agahnim':\n",
    "                found_villain = True\n",
    "                \n",
    "            elif x == 'espada':\n",
    "                sword = True\n",
    "                        \n",
    "        if found_zelda:\n",
    "            if found_villain:\n",
    "                if sword:\n",
    "                    return print(f'A princesa Zelda está a salvo e ainda conseguimos coletar {rupees_coletados} rupees')\n",
    "                else:\n",
    "                    return print(f'Infelizmente a princesa ainda corre perigo, mas temos {rupees_coletados} rupees para nos ajudar nas buscas')\n",
    "            else:\n",
    "                return print(f'A princesa Zelda está a salvo e ainda conseguimos coletar {rupees_coletados} rupees')\n",
    "        else:\n",
    "            return find_zelda(next_room, other_rooms, sword, rupees_coletados)\n",
    "    else:\n",
    "        return print(f'Infelizmente a princesa ainda corre perigo, mas temos {rupees_coletados} rupees para nos ajudar nas buscas')\n",
    "\n",
    "num_salas = int(input())\n",
    "castelo = []\n",
    "\n",
    "for i in range(num_salas):\n",
    "    sala = input().split(' - ')\n",
    "    castelo.append(sala)\n",
    "\n",
    "current_room = int(input())\n",
    "other_rooms = []\n",
    "\n",
    "find_zelda(current_room, other_rooms, False, 0)"
   ]
  }
 ],
 "metadata": {
  "kernelspec": {
   "display_name": "Python 3",
   "language": "python",
   "name": "python3"
  },
  "language_info": {
   "codemirror_mode": {
    "name": "ipython",
    "version": 3
   },
   "file_extension": ".py",
   "mimetype": "text/x-python",
   "name": "python",
   "nbconvert_exporter": "python",
   "pygments_lexer": "ipython3",
   "version": "3.11.3"
  },
  "orig_nbformat": 4
 },
 "nbformat": 4,
 "nbformat_minor": 2
}
