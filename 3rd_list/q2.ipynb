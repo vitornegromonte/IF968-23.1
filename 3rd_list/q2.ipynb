{
 "cells": [
  {
   "cell_type": "code",
   "execution_count": 44,
   "metadata": {},
   "outputs": [
    {
     "name": "stdout",
     "output_type": "stream",
     "text": [
      "Nossa, irei ao shopping agora mesmo! Não tenho nenhum dos 6 itens em casa\n",
      "Isso é tudo! Hora de me preparar!\n"
     ]
    }
   ],
   "source": [
    "# Input lista de desejos\n",
    "itens_desejo = input()\n",
    "\n",
    "# Tratando a lista de desejo\n",
    "## Removendo o espaço da vírgula\n",
    "comma_desejo = itens_desejo.replace(', ', ',')\n",
    "\n",
    "## Acrescentando os itens na lista_desejo\n",
    "lista_desejo = comma_desejo.split(',')\n",
    "\n",
    "# Input itens de casa\n",
    "itens_casa = input()\n",
    "\n",
    "## Removendo o espaço depois da vírgula\n",
    "comma_casa = itens_casa.replace(', ', ',')\n",
    "\n",
    "## Acrescentando os itens na lista_casa\n",
    "lista_casa = comma_casa.split(',')\n",
    "\n",
    "# Lista dos itens encontrados\n",
    "encontrados = []\n",
    "\n",
    "# Contadores\n",
    "n = 0\n",
    "\n",
    "# Caso ao menos algum item tenha sido encontrado!\n",
    "found = False\n",
    "\n",
    "## Adicionando os itens da lista de desejo encontrados na casa na lista de itens encontrados\n",
    "for item_desejo in lista_desejo:\n",
    "    if item_desejo in lista_casa:\n",
    "        encontrados.append(item_desejo)\n",
    "\n",
    "# Caso o tamanho da lista de itens encontrados seja maior que 0, ou seja, não vazia, imprima todos os itens encontrados\n",
    "if len(encontrados) > 0:\n",
    "    print('Esses são os itens que já tenho em casa:')\n",
    "    ## Imprimindo cada item da lista de desejo que foi encontrado\n",
    "    for index, item in enumerate(encontrados):\n",
    "        print(f'{index + 1}º item: {item}')\n",
    "        found = True\n",
    "\n",
    "# Caso a lista de itens encontrados seja vazia\n",
    "else:\n",
    "    print(f'Nossa, irei ao shopping agora mesmo! Não tenho nenhum dos {len(lista_desejo)} itens em casa.')\n",
    "    \n",
    "\n",
    "#  n = tamanho da lista de desejos - tamanho da lista de itens encontrados\n",
    "n = len(lista_desejo) - len(encontrados)\n",
    "\n",
    "# Caso n = 0, nenhum item sobrou, logo, todos foram encontrados\n",
    "if n == 0 and found == True:\n",
    "    print(f'Que ótimo, consegui encontrar cada um dos {len(lista_desejo)} itens!')\n",
    "\n",
    "# Caso n > 0, sobrou algum item da lista de desejo e precisa ser comprado\n",
    "elif n > 0 and found == True:\n",
    "    print(f'Irei precisar comprar {n} itens antes do meu encontro!')\n",
    "\n",
    "# Finalizando o código\n",
    "print('Isso é tudo! Hora de me preparar!')"
   ]
  },
  {
   "cell_type": "code",
   "execution_count": null,
   "metadata": {},
   "outputs": [
    {
     "name": "stdout",
     "output_type": "stream",
     "text": [
      "Esses são os itens que já tenho em casa:\n",
      "1º item: delineador\n",
      "2º item: vestido\n",
      "3º item: óculos\n",
      "Irei precisar comprar 3 itens antes do meu encontro!\n",
      "Isso é tudo! Hora de me preparar!\n"
     ]
    }
   ],
   "source": [
    "itens_desejo = input()\n",
    "\n",
    "comma_desejo = itens_desejo.replace(', ', ',')\n",
    "lista_desejo = comma_desejo.split(',')\n",
    "\n",
    "itens_casa = input()\n",
    "\n",
    "comma_casa = itens_casa.replace(', ', ',')\n",
    "lista_casa = comma_casa.split(',')\n",
    "\n",
    "lista_encontrado = []\n",
    "n = 0\n",
    "\n",
    "print('Esses são os itens que já tenho em casa:')\n",
    "\n",
    "for item_desejo in lista_desejo:\n",
    "    if item_desejo in lista_casa:\n",
    "        lista_encontrado.append(item_desejo)\n",
    "        print(f'{len(lista_encontrado)}º item: {item_desejo}')\n",
    "\n",
    "n = len(lista_desejo) - len(lista_encontrado)\n",
    "print(f'Irei precisar comprar {n} itens antes do meu encontro!')\n",
    "\n",
    "print('Isso é tudo! Hora de me preparar!')\n"
   ]
  }
 ],
 "metadata": {
  "kernelspec": {
   "display_name": "Python 3",
   "language": "python",
   "name": "python3"
  },
  "language_info": {
   "codemirror_mode": {
    "name": "ipython",
    "version": 3
   },
   "file_extension": ".py",
   "mimetype": "text/x-python",
   "name": "python",
   "nbconvert_exporter": "python",
   "pygments_lexer": "ipython3",
   "version": "3.11.3"
  },
  "orig_nbformat": 4
 },
 "nbformat": 4,
 "nbformat_minor": 2
}
