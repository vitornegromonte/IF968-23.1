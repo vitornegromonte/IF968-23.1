{
 "cells": [
  {
   "cell_type": "code",
   "execution_count": null,
   "metadata": {},
   "outputs": [],
   "source": [
    "num = int(input())\n",
    "\n",
    "registradas = []\n",
    "repetidas = 0\n",
    "\n",
    "for i in range(num):\n",
    "    criatura = input()\n",
    "    \n",
    "    if criatura in registradas:\n",
    "        repetidas += 1\n",
    "    else:\n",
    "        registradas.append(criatura)\n",
    "\n",
    "for n in range(repetidas):\n",
    "    print('Criatura repetida')\n",
    "\n",
    "print('Registradas:')\n",
    "for criatura in registradas:\n",
    "    print(criatura)"
   ]
  }
 ],
 "metadata": {
  "language_info": {
   "name": "python"
  },
  "orig_nbformat": 4
 },
 "nbformat": 4,
 "nbformat_minor": 2
}
