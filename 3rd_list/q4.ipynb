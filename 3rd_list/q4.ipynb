{
 "cells": [
  {
   "cell_type": "code",
   "execution_count": 2,
   "metadata": {},
   "outputs": [
    {
     "name": "stdout",
     "output_type": "stream",
     "text": [
      "['Estetoscopio', 'Esfigmomanometro', 'Jaleco', 'Caneta', 'Celular']\n"
     ]
    }
   ],
   "source": [
    "# Input da profissão prevista\n",
    "profissao_prevista = input()\n",
    "\n",
    "# Variáveis e listas de controle\n",
    "bolsa_medica = ['Estetoscopio', 'Esfigmomanometro', 'Jaleco', 'Caneta' , 'Celular']\n",
    "bolsa_informatica = ['Calculadora', 'Oculos', 'Notebook', 'Camisa Social', 'Caderno']\n",
    "bolsa_padeira = ['Rolo', 'Caneta', 'Avental', 'Colher de Pau', 'Caderno']\n",
    "bolsa_economia = ['Calculadora', 'Caneta', 'Camisa Social', 'Agenda', 'Celular']\n",
    "bolsa_personal = ['Halter', 'Agenda', 'Celular', 'Legging', 'Corda']\n",
    "\n",
    "# Contadores\n",
    "bolsa = []\n",
    "item = ''\n",
    "\n",
    "# Input da profissão assumida no dia\n",
    "profissao_dia = input()\n",
    "\n",
    "# \n",
    "\n",
    "if profissao_prevista == 'Medica':\n",
    "    bolsa = bolsa_medica.copy()\n",
    "    bolsa_dia = bolsa_personal.copy()\n",
    "    \n",
    "elif profissao_prevista == 'Assistente de Informatica':\n",
    "    bolsa = bolsa_informatica.copy()\n",
    "    bolsa_dia = bolsa_personal.copy()\n",
    "    \n",
    "elif profissao_prevista == 'Padeira':\n",
    "    bolsa = bolsa_padeira.copy()\n",
    "    bolsa_dia = bolsa_personal.copy()\n",
    "    \n",
    "elif profissao_prevista == 'Economista':\n",
    "    bolsa = bolsa_economia.copy()\n",
    "    bolsa_dia = bolsa_personal.copy()\n",
    "    \n",
    "elif profissao_prevista == 'Personal Trainer':\n",
    "    bolsa = bolsa_personal.copy()\n",
    "    bolsa_dia = bolsa_personal.copy()\n",
    "\n",
    "# Print de teste do copy  \n",
    "print(bolsa)\n",
    "\n",
    "# Adicionar\n",
    "## Se o item não estiver na bolsa e estiver na bolsa do dia, print('{item} adicionado à bolsa')\n",
    "## Se o item estiver na bolsa e não na bolsa do dia, não adicionar na lista e print('Barbie, {item} não esta na lista de itens de {Profissao_do_dia}')\n",
    "## Se o item estiver na bolsa e na bolsa do dia: print('Barbie, você já colocou {item} na bolsa')\n",
    "\n",
    "# Retirar\n",
    "## "
   ]
  }
 ],
 "metadata": {
  "kernelspec": {
   "display_name": "Python 3",
   "language": "python",
   "name": "python3"
  },
  "language_info": {
   "codemirror_mode": {
    "name": "ipython",
    "version": 3
   },
   "file_extension": ".py",
   "mimetype": "text/x-python",
   "name": "python",
   "nbconvert_exporter": "python",
   "pygments_lexer": "ipython3",
   "version": "3.11.3"
  },
  "orig_nbformat": 4
 },
 "nbformat": 4,
 "nbformat_minor": 2
}
