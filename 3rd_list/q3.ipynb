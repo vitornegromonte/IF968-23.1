{
 "cells": [
  {
   "cell_type": "code",
   "execution_count": 57,
   "metadata": {},
   "outputs": [
    {
     "name": "stdout",
     "output_type": "stream",
     "text": [
      "1 2\n",
      "1 2\n"
     ]
    }
   ],
   "source": [
    "n = int(input()) # Tamanho da matriz: n x n\n",
    "\n",
    "planta = [] # lista vazia para receber a planta da mansão\n",
    "\n",
    "for _ in range(n):\n",
    "    andar = []  # lista vazia para receber os cômodos de cada andar\n",
    "    for comodo in range(n):\n",
    "        tam_comodo = int(input())\n",
    "        andar.append(tam_comodo)\n",
    "    planta.append(andar)\n",
    "\n",
    "for andar in planta: # laço percorrendo cada andar da planta\n",
    "    for i, comodo in enumerate(andar): # laço percorrendo cada comodo no andar\n",
    "        print(comodo, end='')\n",
    "        if i < len(andar) - 1: # Verifica se é o último elemento da lista, se for, \"remove\" o espaço que teria no final\n",
    "            print(' ', end='')\n",
    "    print()"
   ]
  }
 ],
 "metadata": {
  "kernelspec": {
   "display_name": "Python 3",
   "language": "python",
   "name": "python3"
  },
  "language_info": {
   "codemirror_mode": {
    "name": "ipython",
    "version": 3
   },
   "file_extension": ".py",
   "mimetype": "text/x-python",
   "name": "python",
   "nbconvert_exporter": "python",
   "pygments_lexer": "ipython3",
   "version": "3.11.3"
  },
  "orig_nbformat": 4
 },
 "nbformat": 4,
 "nbformat_minor": 2
}
