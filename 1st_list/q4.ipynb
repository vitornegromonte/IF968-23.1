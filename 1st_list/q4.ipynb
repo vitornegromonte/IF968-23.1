{
 "cells": [
  {
   "attachments": {},
   "cell_type": "markdown",
   "metadata": {},
   "source": [
    "## Itens\n",
    "# lançador de teias (web_launcher)\n",
    "# lentes de visão avançada (night_vision)\n",
    "# traje a prova de balas (bulletproof)\n",
    "# ativação de IA (ai_ativ)\n",
    "# membranas planadoras (glid_membranes)"
   ]
  },
  {
   "cell_type": "code",
   "execution_count": null,
   "metadata": {},
   "outputs": [],
   "source": [
    "func1 = str(input())\n",
    "func1_ponto = int(input())\n",
    "\n",
    "func2 = str(input())\n",
    "func2_ponto = int(input())\n",
    "\n",
    "func3 = str(input())\n",
    "func3_ponto = int(input())\n",
    "\n",
    "func4 = str(input())\n",
    "func4_ponto = int(input())\n",
    "\n",
    "func5 = str(input())\n",
    "func5_ponto = int(input())\n",
    "# novo lançador de teias\n",
    "# lentes de visão avançada\n",
    "\n",
    "soma_pontos = func1_ponto + func2_ponto + func3_ponto + func4_ponto + func5_ponto\n",
    "\n",
    "if func1 == 'novo lançador de teias':\n",
    "    print('Com calma, aranha')\n",
    "    if func2 == 'lentes de visão avançada':\n",
    "        print('Lembre de desativar as lentes depois, e cuidado ao usar as teias no escuro')\n",
    "        if func3 == 'traje à prova de balas':\n",
    "            print('UOU, só tente sair dessa vivo, vou otimizar a energia aqui')\n",
    "            \n"
   ]
  },
  {
   "cell_type": "code",
   "execution_count": 1,
   "metadata": {},
   "outputs": [
    {
     "name": "stdout",
     "output_type": "stream",
     "text": [
      "Com calma, aranha\n",
      "Aranha, nessa sequência você usou 90 de energia!\n"
     ]
    }
   ],
   "source": [
    "func1 = str(input())\n",
    "func1_ponto = int(input())\n",
    "\n",
    "func2 = str(input())\n",
    "func2_ponto = int(input())\n",
    "\n",
    "func3 = str(input())\n",
    "func3_ponto = int(input())\n",
    "\n",
    "func4 = str(input())\n",
    "func4_ponto = int(input())\n",
    "\n",
    "func5 = str(input())\n",
    "func5_ponto = int(input())\n",
    "# novo lançador de teias\n",
    "# lentes de visão avançada\n",
    "\n",
    "soma_pontos = func1_ponto + func2_ponto + func3_ponto + func4_ponto + func5_ponto\n",
    "\n",
    "print(f'Aranha, nessa sequência você usou {soma_pontos} de energia!')\n",
    "    "
   ]
  }
 ],
 "metadata": {
  "kernelspec": {
   "display_name": "Python 3",
   "language": "python",
   "name": "python3"
  },
  "language_info": {
   "codemirror_mode": {
    "name": "ipython",
    "version": 3
   },
   "file_extension": ".py",
   "mimetype": "text/x-python",
   "name": "python",
   "nbconvert_exporter": "python",
   "pygments_lexer": "ipython3",
   "version": "3.11.3"
  },
  "orig_nbformat": 4
 },
 "nbformat": 4,
 "nbformat_minor": 2
}
