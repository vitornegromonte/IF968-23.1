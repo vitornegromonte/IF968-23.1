{
 "cells": [
  {
   "cell_type": "code",
   "execution_count": 21,
   "metadata": {},
   "outputs": [
    {
     "name": "stdout",
     "output_type": "stream",
     "text": [
      "Miles: Achei o easter egg!!!\n",
      "Peter: Homem-Aranha: Através do Aranhaverso é o melhor filme do homem aranha, 10/10\n"
     ]
    }
   ],
   "source": [
    "import math\n",
    "dica = int(input())\n",
    "\n",
    "# Resolvendo a dica\n",
    "if dica % 2 == 0:\n",
    "    dur_filme = int(math.sqrt(dica / 2)) + 2\n",
    "else:\n",
    "    dur_filme = int(dica / 3) + 3\n",
    "\n",
    "filme_1 = str(input())\n",
    "# Conferindo o filme\n",
    "if filme_1 == 'Coringa' or filme_1 == 'Batman vs Superman' or filme_1 == 'O Cavaleiro das Trevas':\n",
    "    print('Algo de errado não está certo!')\n",
    "else:\n",
    "    if len(filme_1) == dur_filme:\n",
    "        print('Miles: Achei o easter egg!!!')\n",
    "        \n",
    "        filme_2 = input()\n",
    "        filme_3 = input()\n",
    "        \n",
    "        nome_do_filme = str(input())\n",
    "        duracao = int(input())\n",
    "        print(f'Peter: {nome_do_filme} é o melhor filme do homem aranha, 10/10')\n",
    "            \n",
    "    else: \n",
    "        print('Miles: Tou frio, melhor ir procurar nas fases mais antigas')\n",
    "        \n",
    "        # Testando o segundo filme:\n",
    "        filme_2 = str(input())\n",
    "        if len(filme_2) == dur_filme:\n",
    "            print('Miles: Achei o easter egg!!!')\n",
    "            \n",
    "            filme_3 = input()\n",
    "            nome_do_filme = str(input())\n",
    "            duracao = int(input())\n",
    "            if duracao > 135 and dur_filme >= 2:\n",
    "                print('Miles: A mimir') \n",
    "                \n",
    "            elif 120 <= duracao < 135 and dur_filme >= 2:\n",
    "                print('Gwen: Nada que uma xícara de café não resolva!')\n",
    "                \n",
    "            else:\n",
    "                print(f'Peter: {nome_do_filme} é o melhor filme do homem aranha, 10/10')\n",
    "                \n",
    "        else:\n",
    "            print('Gwen: Cadê o velho??? Queria um autógrafo')\n",
    "            filme_3 = str(input())\n",
    "\n",
    "            if len(filme_3) == dur_filme:\n",
    "                print('Miles: Achei o easter egg!!!')\n",
    "                \n",
    "                nome_do_filme = str(input())\n",
    "                duracao = int(input())\n",
    "                if duracao > 135 and dur_filme >= 2:\n",
    "                    print('Miles: A mimir')\n",
    "                elif 120 <= duracao < 135 and dur_filme >= 2:\n",
    "                    print('Gwen: Nada que uma xícara de café não resolva!')\n",
    "                else:\n",
    "                    print(f'Peter: {nome_do_filme} é o melhor filme do homem aranha, 10/10')\n",
    "            else:\n",
    "                print('Peter: Parece que o próximo filme do aranha-verso vai demorar mais do que esperado pra sair...')"
   ]
  },
  {
   "cell_type": "code",
   "execution_count": 19,
   "metadata": {},
   "outputs": [
    {
     "name": "stdout",
     "output_type": "stream",
     "text": [
      "13\n",
      "13\n"
     ]
    }
   ],
   "source": [
    "filme_um = input()\n",
    "durat = input()\n",
    "\n",
    "if dica % 2 == 0:\n",
    "    duration = int(math.sqrt(dica / 2)) + 2\n",
    "else:\n",
    "    duration = int(dica / 3) + 3\n",
    "\n",
    "print(len(filme_um))\n",
    "print(duration)"
   ]
  }
 ],
 "metadata": {
  "kernelspec": {
   "display_name": "Python 3",
   "language": "python",
   "name": "python3"
  },
  "language_info": {
   "codemirror_mode": {
    "name": "ipython",
    "version": 3
   },
   "file_extension": ".py",
   "mimetype": "text/x-python",
   "name": "python",
   "nbconvert_exporter": "python",
   "pygments_lexer": "ipython3",
   "version": "3.11.3"
  },
  "orig_nbformat": 4
 },
 "nbformat": 4,
 "nbformat_minor": 2
}
