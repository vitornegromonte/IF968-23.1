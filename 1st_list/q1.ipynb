{
 "cells": [
  {
   "attachments": {},
   "cell_type": "markdown",
   "metadata": {},
   "source": [
    "0. Se o Aranha em questão for o “Miles Morales” e a frequência da máquina for maior ou igual a 800 e menor que 2400, imprima o seguinte Output:\n",
    "   - “Miles será enviado para a praça do Harlem! O Rino e o Prowler estão causando problemas demais essa hora do dia!”\n",
    "\n",
    "1. Se o Aranha em questão for o “Miles Morales” e a frequência esteja abaixo de 800:\n",
    "   - “Miles está mais livre e pode passar pra visitar sua mãe Rio em seu apartamento!”\n",
    "\n",
    "2. Se o Aranha em questão for o “Miles Morales” e a frequência seja igual ou acima de 2400:\n",
    "   - “Essa frequência é desconhecida para o Miles! Com certeza vai achar encrenca!”\n",
    "\n",
    "3. Se o Aranha em questão for a “Spider-Gwen” e a frequência da máquina frequência da máquina for maior ou igual a 600 e menor que 3000, imprima o seguinte Output:\n",
    "   - “A Gwen deve ir dar um basta nas operações da Tinkerer, ajustaremos a Máquina para a Times Square!”\n",
    "\n",
    "4. Se o Aranha em questão seja a “Spider-Gwen” e a frequência esteja abaixo de 600:\n",
    "   - “A Gwen está liberada pra tomar Sorvete no Central Park, esse será seu Destino”\n",
    "\n",
    "5. Se o Aranha em questão seja a “Spider-Gwen” e a frequência seja igual ou acima de 3000:\n",
    "   - “Sabemos que a Gwen está mais habituada pra viajar entre Universos mas essa frequência é perigosa até para ela!!”\n",
    "\n",
    "6. Se o Aranha em questão for o “Miranha-Furacão” e a frequência da máquina estiver acima de 0, imprima o seguinte Output:\n",
    "   - “A Carreta Furacão sai desgovernada pra animar mais uma rua em Cabrobó!”\n",
    "\n",
    "7. Se o Aranha em questão for o “Miranha-Furacão” e a frequência seja 0 ou tenha um valor negativo:\n",
    "   - “Mas o que é isso?! Esse bregueço deve ta quebrado, Miranha-Furacão, Pica-Pau, Pikachu, Mickey e Cascão vão continuar treinando seu número em casa!”\n",
    "\n",
    "8. Se o Aranha em questão for o “Homem-Aranha do PS4” ou o “Homem-Funko-Pop”:\n",
    "   - “Maceió! Há rumores de um Vilão misterioso nas praias, alguns Aranhas devem ir pra lá!”\n",
    "\n",
    "9. Se o Aranha em questão for o “Porco-Aranha”:\n",
    "   - “O destino será a Fazendinha do Plaza!”\n",
    "\n",
    "10. Finalmente, caso o Aranha não esteja entre os citados nesses casos acima, imprima: “Quê?! Ou esse Aranha não existe ou não deve ser enviado em nenhuma missão pelo Dikastisverso!”"
   ]
  },
  {
   "cell_type": "code",
   "execution_count": 8,
   "metadata": {},
   "outputs": [
    {
     "name": "stdout",
     "output_type": "stream",
     "text": [
      "Maceió! Há rumores de um Vilão misterioso nas praias, alguns Aranhas devem ir pra lá!\n"
     ]
    }
   ],
   "source": [
    "# Inputs\n",
    "nome_aranha = str(input())\n",
    "freq_maq = int(input())\n",
    "\n",
    "if nome_aranha == 'Miles Morales':\n",
    "  if 800 <= freq_maq < 2400:\n",
    "    print('Miles será enviado para a praça do Harlem! O Rino e o Prowler estão causando problemas demais essa hora do dia!')\n",
    "    \n",
    "  elif freq_maq < 800:\n",
    "    print('Miles está mais livre e pode passar pra visitar sua mãe Rio em seu apartamento!')\n",
    "  \n",
    "  elif freq_maq >= 2400:\n",
    "    print('Essa frequência é desconhecida para o Miles! Com certeza vai achar encrenca!')\n",
    "    \n",
    "elif nome_aranha == 'Spider-Gwen':\n",
    "  if 600 <= freq_maq < 3000:\n",
    "    print('A Gwen deve ir dar um basta nas operações da Tinkerer, ajustaremos a Máquina para a Times Square!')\n",
    "    \n",
    "  elif freq_maq < 600:\n",
    "    print('A Gwen está liberada pra tomar Sorvete no Central Park, esse será seu Destino')\n",
    "    \n",
    "  elif freq_maq >= 3000:\n",
    "    print('Sabemos que a Gwen está mais habituada pra viajar entre Universos mas essa frequência é perigosa até para ela!!')\n",
    "    \n",
    "elif nome_aranha == 'Miranha-Furacão':\n",
    "  if freq_maq > 0:\n",
    "    print('A Carreta Furacão sai desgovernada pra animar mais uma rua em Cabrobó!')\n",
    "    \n",
    "  elif freq_maq <= 0:\n",
    "    print('Mas o que é isso?! Esse bregueço deve ta quebrado, Miranha-Furacão, Pica-Pau, Pikachu, Mickey e Cascão vão continuar treinando seu número em casa!')\n",
    "    \n",
    "elif nome_aranha == 'Homem-Aranha do PS4'or nome_aranha == 'Homem-Funko-Pop':\n",
    "  print('Maceió! Há rumores de um Vilão misterioso nas praias, alguns Aranhas devem ir pra lá!')\n",
    "  \n",
    "elif nome_aranha == 'Porco-Aranha':\n",
    "  print('O destino será a Fazendinha do Plaza!')\n",
    "  \n",
    "else:\n",
    "  print('Quê?! Ou esse Aranha não existe ou não deve ser enviado em nenhuma missão pelo Dikastisverso!')\n"
   ]
  }
 ],
 "metadata": {
  "kernelspec": {
   "display_name": "Python 3",
   "language": "python",
   "name": "python3"
  },
  "language_info": {
   "codemirror_mode": {
    "name": "ipython",
    "version": 3
   },
   "file_extension": ".py",
   "mimetype": "text/x-python",
   "name": "python",
   "nbconvert_exporter": "python",
   "pygments_lexer": "ipython3",
   "version": "3.11.3"
  },
  "orig_nbformat": 4
 },
 "nbformat": 4,
 "nbformat_minor": 2
}
