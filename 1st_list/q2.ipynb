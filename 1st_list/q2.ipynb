{
 "cells": [
  {
   "attachments": {},
   "cell_type": "markdown",
   "metadata": {},
   "source": [
    "\n",
    "## Outputs:\n",
    "- Encontrei: Ahá, te encontrei e é o fim das suas férias!\n",
    "- Deu ruim: Carambolas, ele não está aqui. Ele continua se divertindo!\n",
    "- Merda homérica: AAAAAAAH, ele escapou de vez!\n"
   ]
  },
  {
   "cell_type": "code",
   "execution_count": 19,
   "metadata": {},
   "outputs": [
    {
     "name": "stdout",
     "output_type": "stream",
     "text": [
      "Carambolas, ele não está aqui. Ele continua se divertindo!\n",
      "Carambolas, ele não está aqui. Ele continua se divertindo!\n",
      "Ahá, te encontrei e é o fim das suas férias!\n"
     ]
    }
   ],
   "source": [
    "esc = input()\n",
    "local_1 = input()\n",
    "local_2 = input()\n",
    "local_3 = input()\n",
    "\n",
    "esc = esc.casefold()\n",
    "local_1 = local_1.casefold()\n",
    "local_2 = local_2.casefold()\n",
    "local_3 = local_3.casefold()\n",
    "\n",
    "if local_1 == esc:\n",
    "    print('Ahá, te encontrei e é o fim das suas férias!')\n",
    "    \n",
    "else:\n",
    "    print('Carambolas, ele não está aqui. Ele continua se divertindo!')\n",
    "    \n",
    "    if local_2 == esc:\n",
    "        print('Ahá, te encontrei e é o fim das suas férias!')\n",
    "        \n",
    "    else:\n",
    "        print('Carambolas, ele não está aqui. Ele continua se divertindo!')\n",
    "        \n",
    "        if local_3 == esc:\n",
    "            print('Ahá, te encontrei e é o fim das suas férias!')\n",
    "            \n",
    "        else: \n",
    "            print('AAAAAAAH, ele escapou de vez!')"
   ]
  }
 ],
 "metadata": {
  "kernelspec": {
   "display_name": "Python 3",
   "language": "python",
   "name": "python3"
  },
  "language_info": {
   "codemirror_mode": {
    "name": "ipython",
    "version": 3
   },
   "file_extension": ".py",
   "mimetype": "text/x-python",
   "name": "python",
   "nbconvert_exporter": "python",
   "pygments_lexer": "ipython3",
   "version": "3.11.3"
  },
  "orig_nbformat": 4
 },
 "nbformat": 4,
 "nbformat_minor": 2
}
