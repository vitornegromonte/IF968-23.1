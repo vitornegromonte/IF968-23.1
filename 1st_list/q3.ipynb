{
 "cells": [
  {
   "cell_type": "code",
   "execution_count": 4,
   "metadata": {},
   "outputs": [
    {
     "name": "stdout",
     "output_type": "stream",
     "text": [
      "Ops, parece que não foi dessa vez, Miranha. Você terá que continuar na Carreta Furacao mesmo!\n",
      "Infelizmente você não possui as característica necessárias!\n"
     ]
    }
   ],
   "source": [
    "caract1 = input().capitalize()\n",
    "caract2 = input().capitalize()\n",
    "\n",
    "nome = input().capitalize()\n",
    "\n",
    "habilidade = input().capitalize()\n",
    "\n",
    "nota1 = int(input())\n",
    "nota2 = int(input())\n",
    "nota3 = int(input())\n",
    "\n",
    "media = (nota1 + nota2 + nota3)/3\n",
    "\n",
    "if (caract1 == 'Humildade' and caract2 == 'Bondade'):\n",
    "    \n",
    "    if (nome == 'Mary' or nome == 'Ninguem'):\n",
    "        \n",
    "        if (habilidade == 'Dancar' or habilidade == 'Lancar'):\n",
    "            \n",
    "            if media >= 7:\n",
    "                print('Siga em frente, olhe para o lado. Bem-vindo ao aranhaverso, Miranha Furacao!')\n",
    "                \n",
    "            else:\n",
    "                print('Ops, parece que não foi dessa vez, Miranha. Você terá que continuar na Carreta Furacao mesmo!')\n",
    "                print('Infelizmente você não obteve um bom desempenho escolar!')\n",
    "                \n",
    "        else:\n",
    "            print('Ops, parece que não foi dessa vez, Miranha. Você terá que continuar na Carreta Furacao mesmo!')\n",
    "            print('Infelizmente você não possui as habilidades necessárias!')\n",
    "        \n",
    "    else:\n",
    "        print('Ops, parece que não foi dessa vez, Miranha. Você terá que continuar na Carreta Furacao mesmo!')\n",
    "        print('Infelizmente você não está apaixonado pela pessoa certa!')       \n",
    "else:\n",
    "    print('Ops, parece que não foi dessa vez, Miranha. Você terá que continuar na Carreta Furacao mesmo!')\n",
    "    print('Infelizmente você não possui as característica necessárias!')\n"
   ]
  }
 ],
 "metadata": {
  "kernelspec": {
   "display_name": "Python 3",
   "language": "python",
   "name": "python3"
  },
  "language_info": {
   "codemirror_mode": {
    "name": "ipython",
    "version": 3
   },
   "file_extension": ".py",
   "mimetype": "text/x-python",
   "name": "python",
   "nbconvert_exporter": "python",
   "pygments_lexer": "ipython3",
   "version": "3.11.3"
  },
  "orig_nbformat": 4
 },
 "nbformat": 4,
 "nbformat_minor": 2
}
