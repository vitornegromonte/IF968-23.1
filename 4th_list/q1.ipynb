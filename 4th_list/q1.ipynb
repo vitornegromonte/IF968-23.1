{
 "cells": [
  {
   "cell_type": "code",
   "execution_count": null,
   "metadata": {},
   "outputs": [],
   "source": []
  },
  {
   "cell_type": "markdown",
   "metadata": {},
   "source": [
    "1. Recebe uma __*string*__ com as seguintes informações: nome do participante, qtd_propulsores e velocidade_propulsores\n",
    "2. ENQUANTO stop == False:\n",
    "   1. Recebe uma ação\n",
    "   2. SE ação == \"Pit-Stop...\":\n",
    "      1. +1 propulsor pro participante\n",
    "   3. SE ação == \"Um Droide...\":\n",
    "      1. -1 propulsor pro participante\n",
    "   4. SE ação == \"Opa esse participante...\":\n",
    "      1. Desclassifica o participante\n",
    "      2. Imprime: \"O {nome do participante} achou que não descobriríamos, tirem {nome do participante} imediatamente da pista.\"\n",
    "   5. SE ação == \"Próximo\":\n",
    "      1. Considera o participante como classificado e receberá um novo participante\n",
    "   6. SE ação == \"FIM\":\n",
    "      1. \"PARA O SHOW\" - by Cabelinho\n",
    "      2. stop == True"
   ]
  }
 ],
 "metadata": {
  "language_info": {
   "name": "python"
  },
  "orig_nbformat": 4
 },
 "nbformat": 4,
 "nbformat_minor": 2
}
