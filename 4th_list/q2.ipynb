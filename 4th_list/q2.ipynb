{
 "cells": [
  {
   "cell_type": "code",
   "execution_count": 14,
   "metadata": {},
   "outputs": [
    {
     "name": "stdout",
     "output_type": "stream",
     "text": [
      "A frase \"ame o poema\" é um palíndromo!\n",
      "O número \"22222\" é um palíndromo!\n"
     ]
    }
   ],
   "source": [
    "def palindromo(inp_frase):\n",
    "    output = ''\n",
    "    frase_inv = inp_frase.replace(' ', '').lower() # removendo os espaços e tornando as letras minúsculas\n",
    "    \n",
    "    if frase_inv == frase_inv[::-1]:\n",
    "        if frase.isdigit():\n",
    "            output = print(f'O número \"{frase}\" é um palíndromo!')\n",
    "            \n",
    "        else:\n",
    "            output = print(f'A frase \"{frase}\" é um palíndromo!')\n",
    "            \n",
    "    else:\n",
    "        output = print('A frase ou o número não é um palíndromo.')\n",
    "    return output\n",
    "        \n",
    "def repeticao_caracteres(inp_frase):\n",
    "    output = ''\n",
    "    num_caract_diferentes = 0\n",
    "    caract_diferentes = set()\n",
    "    frase_limpa = inp_frase.replace(' ', '').lower() # limpando o input: removendo espaços e letras minúsculas\n",
    "    \n",
    "    if frase.replace(' ', '').lower() == frase.replace(' ', '').lower()[::-1]:\n",
    "        for i in frase_limpa:\n",
    "            if i.isalnum() and i not in caract_diferentes:\n",
    "                caract_diferentes.add(i)\n",
    "                \n",
    "        num_caract_diferentes = len(caract_diferentes)\n",
    "        \n",
    "        if inp_frase.isdigit():\n",
    "            output = print(f'Há {num_caract_diferentes} número(s) distinto(s) na sequência de números.')\n",
    "            \n",
    "        else:\n",
    "            output = print(f'Há {num_caract_diferentes} letra(s) distinta(s) na frase.')\n",
    "        \n",
    "    return output\n",
    "\n",
    "n = int(input())\n",
    "\n",
    "for _ in range(n):\n",
    "    frase = input()\n",
    "    palindromo(frase)\n",
    "    repeticao_caracteres(frase)"
   ]
  }
 ],
 "metadata": {
  "kernelspec": {
   "display_name": "Python 3",
   "language": "python",
   "name": "python3"
  },
  "language_info": {
   "codemirror_mode": {
    "name": "ipython",
    "version": 3
   },
   "file_extension": ".py",
   "mimetype": "text/x-python",
   "name": "python",
   "nbconvert_exporter": "python",
   "pygments_lexer": "ipython3",
   "version": "3.11.3"
  },
  "orig_nbformat": 4
 },
 "nbformat": 4,
 "nbformat_minor": 2
}
