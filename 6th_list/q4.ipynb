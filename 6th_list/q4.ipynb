{
 "cells": [
  {
   "cell_type": "code",
   "execution_count": 3,
   "metadata": {},
   "outputs": [
    {
     "name": "stdout",
     "output_type": "stream",
     "text": [
      "2\n"
     ]
    }
   ],
   "source": [
    "# Função geradora de trigramas de uma linha\n",
    "def gerar_trigrama(linha: str):\n",
    "    return {linha[i:i+3] for i in range(len(linha) - 2)}\n",
    "\n",
    "# Função principal\n",
    "def main():\n",
    "    linhas = []\n",
    "    while True:\n",
    "        linha = input()\n",
    "        if linha == \"END_OF_FILE\":\n",
    "            break\n",
    "        linhas.append(linha)\n",
    "    \n",
    "    # Dicionário que mapeia trigramas a números de linha\n",
    "    trigrama_linhas = {}\n",
    "    for num_linha, linha in enumerate(linhas):\n",
    "        for trigrama in gerar_trigrama(linha.lower()):\n",
    "            trigrama_linhas.setdefault(trigrama, set()).add(num_linha)\n",
    "    \n",
    "    # Entrada qt de buscas\n",
    "    buscas = int(input())\n",
    "    \n",
    "    # Laço de busca\n",
    "    for _ in range(buscas):\n",
    "        trecho_procurado = input().lower()\n",
    "        trecho_trigrama = trecho_procurado[:3] \n",
    "        \n",
    "        # Verifica se o trigrama está presente no dicionário de trigramas\n",
    "        if trecho_trigrama in trigrama_linhas:\n",
    "            linhas_possiveis = trigrama_linhas[trecho_trigrama]\n",
    "            linha_encontrada = next((num_linha for num_linha in linhas_possiveis if trecho_procurado in linhas[num_linha].lower()), -1)\n",
    "            print(linha_encontrada)\n",
    "        else:\n",
    "            # O trecho não possui trigrama correspondente, logo, não pode estar em nenhuma linha\n",
    "            print(-1)\n",
    "\n",
    "if __name__ == \"__main__\":\n",
    "    main()"
   ]
  }
 ],
 "metadata": {
  "kernelspec": {
   "display_name": "Python 3",
   "language": "python",
   "name": "python3"
  },
  "language_info": {
   "codemirror_mode": {
    "name": "ipython",
    "version": 3
   },
   "file_extension": ".py",
   "mimetype": "text/x-python",
   "name": "python",
   "nbconvert_exporter": "python",
   "pygments_lexer": "ipython3",
   "version": "3.11.3"
  },
  "orig_nbformat": 4
 },
 "nbformat": 4,
 "nbformat_minor": 2
}
