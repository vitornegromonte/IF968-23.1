{
 "cells": [
  {
   "cell_type": "code",
   "execution_count": null,
   "metadata": {},
   "outputs": [],
   "source": [
    "num = int(input()) # recebe o número de famosos\n",
    "famosos = {} # inicia um dicionário vazio para receber os famosos\n",
    "fake_nattys = []\n",
    "\n",
    "for _ in range(num):\n",
    "    dados = input().split(' - ')\n",
    "    nome_famoso = dados[0]\n",
    "    infos_fam = dados[1]\n",
    "    \n",
    "    if nome_famoso in famosos:\n",
    "        famosos[nome_famoso] = infos_fam\n",
    "    else:\n",
    "        famosos[nome_famoso] = infos_fam\n",
    "\n",
    "mes = input()\n",
    "\n",
    "for nome, infos in famosos.items():\n",
    "    if \"fake\" in infos and mes in infos:\n",
    "        profissao = infos.split()[0]\n",
    "        fake_nattys.append(f'{nome} - {profissao}')\n",
    "\n",
    "fake_nattys.sort()\n",
    "\n",
    "if len(fake_nattys) > 0:\n",
    "    print('Os fake nattys do mês são:')\n",
    "    for fake_natty in fake_nattys:\n",
    "        print(fake_natty)\n",
    "else:\n",
    "    print('Até agora não temos ninguém pra expor na internet neste mês :(')"
   ]
  }
 ],
 "metadata": {
  "kernelspec": {
   "display_name": "Python 3",
   "language": "python",
   "name": "python3"
  },
  "language_info": {
   "codemirror_mode": {
    "name": "ipython",
    "version": 3
   },
   "file_extension": ".py",
   "mimetype": "text/x-python",
   "name": "python",
   "nbconvert_exporter": "python",
   "pygments_lexer": "ipython3",
   "version": "3.11.3"
  },
  "orig_nbformat": 4
 },
 "nbformat": 4,
 "nbformat_minor": 2
}
