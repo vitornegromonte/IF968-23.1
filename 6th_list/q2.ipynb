{
 "cells": [
  {
   "cell_type": "code",
   "execution_count": 6,
   "metadata": {},
   "outputs": [
    {
     "name": "stdout",
     "output_type": "stream",
     "text": [
      "Rodrigo Góes - 100 - natty\n",
      "Igor Flow - 25 - natty\n",
      "Paulo Muzy - 96 - FAKE NATTY\n",
      "Renato Cariani - 95 - FAKE NATTY\n"
     ]
    }
   ],
   "source": [
    "# uma função que recebe uma lista de dicionários (pessoas) e categoriza ela em natty ou fake natty\n",
    "def categoriza_pessoas(pessoas: list):\n",
    "    for pessoa in pessoas:\n",
    "        \n",
    "        if pessoa['categoria'] == 'natty':\n",
    "            nattys.append(pessoa)\n",
    "        else:\n",
    "            fake_nattys.append(pessoa)\n",
    "\n",
    "# um método que ordena as notas de maneira decrescente dentro de suas categorias\n",
    "def ordena_notas(pessoa: dict):\n",
    "    return(-pessoa['nota'], pessoa['nome'])\n",
    "\n",
    "# passando o método ordena_notas para ordenar as duas listas\n",
    "def ordena_pessoas(nattys: list, fake_nattys: list):\n",
    "    \n",
    "    nattys.sort(key=ordena_notas)\n",
    "    fake_nattys.sort(key=ordena_notas)\n",
    "    \n",
    "# recebe o número de participantes e inicia uma lista vazia para adicionar os participantes \n",
    "num = int(input())\n",
    "avaliados = []\n",
    "\n",
    "# listas vazias para nattys e fake_nattys\n",
    "nattys = []\n",
    "fake_nattys = []\n",
    "\n",
    "for _ in range(num):\n",
    "    nome, nota, categoria = input().split(' - ') # recebe o input da pessoa analisada\n",
    "    avaliados.append((nome, int(nota), categoria))\n",
    "\n",
    "# usando list comprehension para criar uma lista de dicionários pra cada indivíduo analisado\n",
    "pessoas = [{'nome': nome, 'nota': nota, 'categoria': categoria} for nome, nota, categoria in avaliados]\n",
    "\n",
    "# chamando as funções e ordenando os valores\n",
    "categoriza_pessoas(pessoas)\n",
    "ordena_pessoas(nattys, fake_nattys)\n",
    "\n",
    "# imprimindo os valores na tela\n",
    "for pessoa in nattys:\n",
    "    print(f\"{pessoa['nome']} - {pessoa['nota']} - {pessoa['categoria']}\")\n",
    "for pessoa in fake_nattys:\n",
    "    print(f\"{pessoa['nome']} - {pessoa['nota']} - {pessoa['categoria']}\")"
   ]
  }
 ],
 "metadata": {
  "kernelspec": {
   "display_name": "Python 3",
   "language": "python",
   "name": "python3"
  },
  "language_info": {
   "codemirror_mode": {
    "name": "ipython",
    "version": 3
   },
   "file_extension": ".py",
   "mimetype": "text/x-python",
   "name": "python",
   "nbconvert_exporter": "python",
   "pygments_lexer": "ipython3",
   "version": "3.11.3"
  },
  "orig_nbformat": 4
 },
 "nbformat": 4,
 "nbformat_minor": 2
}
