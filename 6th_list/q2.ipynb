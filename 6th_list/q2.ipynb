{
 "cells": [
  {
   "cell_type": "code",
   "execution_count": 3,
   "metadata": {},
   "outputs": [
    {
     "name": "stdout",
     "output_type": "stream",
     "text": [
      "Rodrigo Góes - 100 - natty\n",
      "Igor Flow - 25 - natty\n",
      "Paulo Muzy - 96 - FAKE NATTY\n",
      "Renato Cariani - 95 - FAKE NATTY\n"
     ]
    }
   ],
   "source": [
    "def sort_key(pessoa: str):\n",
    "    return (-pessoa['nota'], pessoa['nome'])\n",
    "    nattys.sort(key=sort_key)\n",
    "    fake_nattys.sort(key=sort_key)\n",
    "    \n",
    "    \n",
    "def main():\n",
    "    n = int(input())\n",
    "    pessoas = []\n",
    "\n",
    "    for _ in range(n):\n",
    "        pessoa_data = input().split(' - ')\n",
    "        nome = pessoa_data[0]\n",
    "        nota = int(pessoa_data[1])\n",
    "        categoria = pessoa_data[2]\n",
    "\n",
    "        pessoa = {'nome': nome, 'nota': nota, 'categoria': categoria}\n",
    "        pessoas.append(pessoa)\n",
    "\n",
    "    nattys = []\n",
    "    fake_nattys = []\n",
    "\n",
    "    for pessoa in pessoas:\n",
    "        if pessoa['categoria'] == 'natty':\n",
    "            nattys.append(pessoa)\n",
    "        else:\n",
    "            fake_nattys.append(pessoa)\n",
    "\n",
    "    for pessoa in nattys:\n",
    "        print(f\"{pessoa['nome']} - {pessoa['nota']} - {pessoa['categoria']}\")\n",
    "    for pessoa in fake_nattys:\n",
    "        print(f\"{pessoa['nome']} - {pessoa['nota']} - {pessoa['categoria']}\")\n",
    "\n",
    "if __name__ == \"__main__\":\n",
    "    main()"
   ]
  },
  {
   "cell_type": "code",
   "execution_count": null,
   "metadata": {},
   "outputs": [],
   "source": [
    "def main():\n",
    "    n = int(input())\n",
    "    pessoas = []\n",
    "\n",
    "    for _ in range(n):\n",
    "        pessoa_data = input().split(' - ')\n",
    "        nome = pessoa_data[0]\n",
    "        nota = int(pessoa_data[1])\n",
    "        categoria = pessoa_data[2]\n",
    "\n",
    "        pessoa = {'nome': nome, 'nota': nota, 'categoria': categoria}\n",
    "        pessoas.append(pessoa)\n",
    "\n",
    "    nattys = []\n",
    "    fake_nattys = []\n",
    "\n",
    "    for pessoa in pessoas:\n",
    "        if pessoa['categoria'] == 'natty':\n",
    "            nattys.append(pessoa)\n",
    "        else:\n",
    "            fake_nattys.append(pessoa)\n",
    "\n",
    "    def sort_key(pessoa):\n",
    "        return (-pessoa['nota'], pessoa['nome'])\n",
    "\n",
    "    nattys.sort(key=sort_key)\n",
    "    fake_nattys.sort(key=sort_key)\n",
    "\n",
    "    for pessoa in nattys:\n",
    "        print(f\"{pessoa['nome']} - {pessoa['nota']} - {pessoa['categoria']}\")\n",
    "    for pessoa in fake_nattys:\n",
    "        print(f\"{pessoa['nome']} - {pessoa['nota']} - {pessoa['categoria']}\")\n",
    "\n",
    "if __name__ == \"__main__\":\n",
    "    main()"
   ]
  }
 ],
 "metadata": {
  "kernelspec": {
   "display_name": "Python 3",
   "language": "python",
   "name": "python3"
  },
  "language_info": {
   "codemirror_mode": {
    "name": "ipython",
    "version": 3
   },
   "file_extension": ".py",
   "mimetype": "text/x-python",
   "name": "python",
   "nbconvert_exporter": "python",
   "pygments_lexer": "ipython3",
   "version": "3.11.3"
  },
  "orig_nbformat": 4
 },
 "nbformat": 4,
 "nbformat_minor": 2
}
